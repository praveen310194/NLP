{
  "nbformat": 4,
  "nbformat_minor": 0,
  "metadata": {
    "colab": {
      "name": "Lemmatization.ipyn",
      "provenance": [],
      "collapsed_sections": [],
      "authorship_tag": "ABX9TyMXwZ4P63odAxU8HDPZ0n24",
      "include_colab_link": true
    },
    "kernelspec": {
      "name": "python3",
      "display_name": "Python 3"
    }
  },
  "cells": [
    {
      "cell_type": "markdown",
      "metadata": {
        "id": "view-in-github",
        "colab_type": "text"
      },
      "source": [
        "<a href=\"https://colab.research.google.com/github/praveen310194/NLP/blob/main/Lemmatization_ipyn.ipynb\" target=\"_parent\"><img src=\"https://colab.research.google.com/assets/colab-badge.svg\" alt=\"Open In Colab\"/></a>"
      ]
    },
    {
      "cell_type": "code",
      "metadata": {
        "id": "0XOVj7XHVZ5w",
        "colab": {
          "base_uri": "https://localhost:8080/"
        },
        "outputId": "a4bacb42-41ac-4bae-c166-d75a83919703"
      },
      "source": [
        "import spacy.cli\r\n",
        "spacy.cli.download('en_core_web_sm')"
      ],
      "execution_count": null,
      "outputs": [
        {
          "output_type": "stream",
          "text": [
            "\u001b[38;5;2m✔ Download and installation successful\u001b[0m\n",
            "You can now load the model via spacy.load('en_core_web_sm')\n"
          ],
          "name": "stdout"
        }
      ]
    },
    {
      "cell_type": "code",
      "metadata": {
        "id": "QrectSxfuy0a"
      },
      "source": [
        "import spacy\r\n",
        "nlp=spacy.load('en_core_web_sm')"
      ],
      "execution_count": null,
      "outputs": []
    },
    {
      "cell_type": "code",
      "metadata": {
        "colab": {
          "base_uri": "https://localhost:8080/"
        },
        "id": "yF93pbrbu_YE",
        "outputId": "0bd6e146-db66-4fa5-eafc-7dc7939f0847"
      },
      "source": [
        "doc=nlp(\"As a DataScientist ifeel it's the most happiest job i've ever had\")\r\n",
        "doc"
      ],
      "execution_count": null,
      "outputs": [
        {
          "output_type": "execute_result",
          "data": {
            "text/plain": [
              "As a DataScientist ifeel it's the most happiest job i've ever had"
            ]
          },
          "metadata": {
            "tags": []
          },
          "execution_count": 4
        }
      ]
    },
    {
      "cell_type": "code",
      "metadata": {
        "colab": {
          "base_uri": "https://localhost:8080/"
        },
        "id": "h5t_RnuLvnjB",
        "outputId": "f5fe4d7b-4b90-4a7a-8449-de237c106529"
      },
      "source": [
        "for i in doc:\r\n",
        "  print(i.text,'-',i.lemma_)"
      ],
      "execution_count": null,
      "outputs": [
        {
          "output_type": "stream",
          "text": [
            "As - as\n",
            "a - a\n",
            "DataScientist - DataScientist\n",
            "ifeel - ifeel\n",
            "it - -PRON-\n",
            "'s - be\n",
            "the - the\n",
            "most - most\n",
            "happiest - happy\n",
            "job - job\n",
            "i - -PRON-\n",
            "'ve - have\n",
            "ever - ever\n",
            "had - have\n"
          ],
          "name": "stdout"
        }
      ]
    },
    {
      "cell_type": "code",
      "metadata": {
        "colab": {
          "base_uri": "https://localhost:8080/"
        },
        "id": "9pmArzhgv2zG",
        "outputId": "af3538d7-0c0f-4f9a-a7be-7c603f72185d"
      },
      "source": [
        "doc1=nlp('Machine learning is an application of artificial intelligence (AI) that provides systems the ability to automatically learn and improve from experience without being explicitly programmed. Machine learning focuses on the development of computer programs that can access data and use it learn for themselves.The process of learning begins with observations or data, such as examples, direct experience, or instruction, in order to look for patterns in data and make better decisions in the future based on the examples that we provide. The primary aim is to allow the computers learn automatically without human intervention or assistance and adjust actions accordingly.')\r\n",
        "doc1"
      ],
      "execution_count": null,
      "outputs": [
        {
          "output_type": "execute_result",
          "data": {
            "text/plain": [
              "Machine learning is an application of artificial intelligence (AI) that provides systems the ability to automatically learn and improve from experience without being explicitly programmed. Machine learning focuses on the development of computer programs that can access data and use it learn for themselves.The process of learning begins with observations or data, such as examples, direct experience, or instruction, in order to look for patterns in data and make better decisions in the future based on the examples that we provide. The primary aim is to allow the computers learn automatically without human intervention or assistance and adjust actions accordingly."
            ]
          },
          "metadata": {
            "tags": []
          },
          "execution_count": 10
        }
      ]
    },
    {
      "cell_type": "code",
      "metadata": {
        "colab": {
          "base_uri": "https://localhost:8080/"
        },
        "id": "3XfZlCiRwI7j",
        "outputId": "9e9bc266-e23a-4ac1-eec4-0e477bd92ddc"
      },
      "source": [
        "for i in doc1:\r\n",
        "  print(i.text,'-',i.lemma_)"
      ],
      "execution_count": null,
      "outputs": [
        {
          "output_type": "stream",
          "text": [
            "Machine - machine\n",
            "learning - learning\n",
            "is - be\n",
            "an - an\n",
            "application - application\n",
            "of - of\n",
            "artificial - artificial\n",
            "intelligence - intelligence\n",
            "( - (\n",
            "AI - AI\n",
            ") - )\n",
            "that - that\n",
            "provides - provide\n",
            "systems - system\n",
            "the - the\n",
            "ability - ability\n",
            "to - to\n",
            "automatically - automatically\n",
            "learn - learn\n",
            "and - and\n",
            "improve - improve\n",
            "from - from\n",
            "experience - experience\n",
            "without - without\n",
            "being - be\n",
            "explicitly - explicitly\n",
            "programmed - program\n",
            ". - .\n",
            "Machine - machine\n",
            "learning - learn\n",
            "focuses - focus\n",
            "on - on\n",
            "the - the\n",
            "development - development\n",
            "of - of\n",
            "computer - computer\n",
            "programs - program\n",
            "that - that\n",
            "can - can\n",
            "access - access\n",
            "data - datum\n",
            "and - and\n",
            "use - use\n",
            "it - -PRON-\n",
            "learn - learn\n",
            "for - for\n",
            "themselves - -PRON-\n",
            ". - .\n",
            "The - the\n",
            "process - process\n",
            "of - of\n",
            "learning - learning\n",
            "begins - begin\n",
            "with - with\n",
            "observations - observation\n",
            "or - or\n",
            "data - datum\n",
            ", - ,\n",
            "such - such\n",
            "as - as\n",
            "examples - example\n",
            ", - ,\n",
            "direct - direct\n",
            "experience - experience\n",
            ", - ,\n",
            "or - or\n",
            "instruction - instruction\n",
            ", - ,\n",
            "in - in\n",
            "order - order\n",
            "to - to\n",
            "look - look\n",
            "for - for\n",
            "patterns - pattern\n",
            "in - in\n",
            "data - datum\n",
            "and - and\n",
            "make - make\n",
            "better - well\n",
            "decisions - decision\n",
            "in - in\n",
            "the - the\n",
            "future - future\n",
            "based - base\n",
            "on - on\n",
            "the - the\n",
            "examples - example\n",
            "that - that\n",
            "we - -PRON-\n",
            "provide - provide\n",
            ". - .\n",
            "The - the\n",
            "primary - primary\n",
            "aim - aim\n",
            "is - be\n",
            "to - to\n",
            "allow - allow\n",
            "the - the\n",
            "computers - computer\n",
            "learn - learn\n",
            "automatically - automatically\n",
            "without - without\n",
            "human - human\n",
            "intervention - intervention\n",
            "or - or\n",
            "assistance - assistance\n",
            "and - and\n",
            "adjust - adjust\n",
            "actions - action\n",
            "accordingly - accordingly\n",
            ". - .\n"
          ],
          "name": "stdout"
        }
      ]
    },
    {
      "cell_type": "code",
      "metadata": {
        "colab": {
          "base_uri": "https://localhost:8080/"
        },
        "id": "-7BFiJH6wa6h",
        "outputId": "00c08196-b7a8-40bd-f126-f4706b22093a"
      },
      "source": [
        "doc2=nlp('He was crying incessantly in order to douse the flame of the pain caused to him. Charles cried because, he lost his mother in a horrible accident')\r\n",
        "doc2"
      ],
      "execution_count": null,
      "outputs": [
        {
          "output_type": "execute_result",
          "data": {
            "text/plain": [
              "He was crying incessantly in order to douse the flame of the pain caused to him. Charles cried because, he lost his mother in a horrible accident"
            ]
          },
          "metadata": {
            "tags": []
          },
          "execution_count": 12
        }
      ]
    },
    {
      "cell_type": "code",
      "metadata": {
        "colab": {
          "base_uri": "https://localhost:8080/"
        },
        "id": "UWuZZByswyGv",
        "outputId": "099a21a5-c9d2-4447-c117-80265ef0a1e7"
      },
      "source": [
        "for i in doc2:\r\n",
        "  print(i.text,'-',i.lemma_)"
      ],
      "execution_count": null,
      "outputs": [
        {
          "output_type": "stream",
          "text": [
            "He - -PRON-\n",
            "was - be\n",
            "crying - cry\n",
            "incessantly - incessantly\n",
            "in - in\n",
            "order - order\n",
            "to - to\n",
            "douse - douse\n",
            "the - the\n",
            "flame - flame\n",
            "of - of\n",
            "the - the\n",
            "pain - pain\n",
            "caused - cause\n",
            "to - to\n",
            "him - -PRON-\n",
            ". - .\n",
            "Charles - Charles\n",
            "cried - cry\n",
            "because - because\n",
            ", - ,\n",
            "he - -PRON-\n",
            "lost - lose\n",
            "his - -PRON-\n",
            "mother - mother\n",
            "in - in\n",
            "a - a\n",
            "horrible - horrible\n",
            "accident - accident\n"
          ],
          "name": "stdout"
        }
      ]
    },
    {
      "cell_type": "code",
      "metadata": {
        "id": "BYbfHxGvw30l"
      },
      "source": [
        ""
      ],
      "execution_count": null,
      "outputs": []
    }
  ]
}