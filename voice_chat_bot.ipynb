{
 "cells": [
  {
   "cell_type": "code",
   "execution_count": 1,
   "metadata": {},
   "outputs": [],
   "source": [
    "#!pip install SpeechRecognition  --->speech to text\n",
    "#!pip install pyaudio  ---> microphone access\n",
    "#!pip install pyttsx3  ---->text to speech\n",
    "#!pip install wikipedia ---->work with wikipedia\n",
    "#!pip install pywhatkit ---->work with youtube"
   ]
  },
  {
   "cell_type": "code",
   "execution_count": 2,
   "metadata": {},
   "outputs": [],
   "source": [
    "import speech_recognition as sr\n",
    "import pyttsx3\n",
    "import wikipedia\n",
    "import pywhatkit"
   ]
  },
  {
   "cell_type": "code",
   "execution_count": 3,
   "metadata": {},
   "outputs": [],
   "source": [
    "listener = sr.Recognizer()\n",
    "player = pyttsx3.init()"
   ]
  },
  {
   "cell_type": "markdown",
   "metadata": {},
   "source": [
    "# listen function converts speech to text"
   ]
  },
  {
   "cell_type": "code",
   "execution_count": 4,
   "metadata": {},
   "outputs": [],
   "source": [
    "def listen():\n",
    "    with sr.Microphone() as input_device:\n",
    "        print(\"I am ready, Listening ....\")\n",
    "        voice_content = listener.listen(input_device)\n",
    "        text_command = listener.recognize_google(voice_content)\n",
    "        text_command = text_command.lower()\n",
    "        print(text_command)\n",
    "\n",
    "    return text_command;"
   ]
  },
  {
   "cell_type": "markdown",
   "metadata": {},
   "source": [
    "# talk function converts text to speech"
   ]
  },
  {
   "cell_type": "code",
   "execution_count": 5,
   "metadata": {},
   "outputs": [],
   "source": [
    "def talk(text):\n",
    "    player.say(text)\n",
    "    player.runAndWait()"
   ]
  },
  {
   "cell_type": "markdown",
   "metadata": {},
   "source": [
    "# run_voice_bot funcion to create voice chat bot"
   ]
  },
  {
   "cell_type": "code",
   "execution_count": 6,
   "metadata": {},
   "outputs": [],
   "source": [
    "def run_voice_bot():\n",
    "    talk(\"hai i am siri\")\n",
    "    command = listen() # return text for listen()\n",
    "    if \"siri\" in command: \n",
    "        command = command.replace(\"siri\",\"\")\n",
    "        if \"what is\" in command:\n",
    "            command = command.replace(\"what is\", \"\")\n",
    "            info = wikipedia.summary(command, 2) # 2 is no of lines to get\n",
    "            talk(info)\n",
    "        elif \"who is\" in command:\n",
    "            command = command.replace(\"who is\", \"\")\n",
    "            info = wikipedia.summary(command, 5)\n",
    "            talk(info)\n",
    "        elif \"play\" in command:\n",
    "            command = command.replace(\"play\", \"\")\n",
    "            pywhatkit.playonyt(command)\n",
    "        else:\n",
    "            talk(\"Sorry, I am unable to find what you looking for\")\n",
    "    else:\n",
    "        msg = \"say like siri \"+command\n",
    "        talk(msg)"
   ]
  },
  {
   "cell_type": "code",
   "execution_count": 7,
   "metadata": {},
   "outputs": [
    {
     "name": "stdout",
     "output_type": "stream",
     "text": [
      "I am ready, Listening ....\n",
      "siri what is computer\n"
     ]
    },
    {
     "name": "stderr",
     "output_type": "stream",
     "text": [
      "Exception ignored in: <bound method BSTR.__del__ of BSTR('A computer is a machine that can be instructed to carry out sequences of arithmetic or logical operations automatically via computer programming. Modern computers have the ability to follow generalized sets of operations, called programs. These programs enable computers to perform an extremely wide range of tasks. A \"complete\" computer including the hardware, the operating system (main software), and peripheral equipment required and used for \"full\" operation can be referred to as a computer system. This term may as well be used for a group of computers that are connected and work together, in particular a computer network or computer cluster.')>\n",
      "Traceback (most recent call last):\n",
      "  File \"C:\\Users\\praveen\\Anaconda3\\envs\\opencv\\lib\\site-packages\\comtypes\\__init__.py\", line 999, in __del__\n",
      "    def __del__(self, _free=windll.oleaut32.SysFreeString):\n",
      "KeyboardInterrupt\n"
     ]
    }
   ],
   "source": [
    "run_voice_bot()"
   ]
  },
  {
   "cell_type": "code",
   "execution_count": 18,
   "metadata": {},
   "outputs": [],
   "source": [
    "info = wikipedia.summary('computer', 1)"
   ]
  },
  {
   "cell_type": "code",
   "execution_count": 19,
   "metadata": {},
   "outputs": [
    {
     "data": {
      "text/plain": [
       "'A computer is a machine that can be instructed to carry out sequences of arithmetic or logical operations automatically via computer programming.'"
      ]
     },
     "execution_count": 19,
     "metadata": {},
     "output_type": "execute_result"
    }
   ],
   "source": [
    "info"
   ]
  },
  {
   "cell_type": "code",
   "execution_count": null,
   "metadata": {},
   "outputs": [],
   "source": []
  }
 ],
 "metadata": {
  "kernelspec": {
   "display_name": "Python 3",
   "language": "python",
   "name": "python3"
  },
  "language_info": {
   "codemirror_mode": {
    "name": "ipython",
    "version": 3
   },
   "file_extension": ".py",
   "mimetype": "text/x-python",
   "name": "python",
   "nbconvert_exporter": "python",
   "pygments_lexer": "ipython3",
   "version": "3.6.12"
  }
 },
 "nbformat": 4,
 "nbformat_minor": 4
}
