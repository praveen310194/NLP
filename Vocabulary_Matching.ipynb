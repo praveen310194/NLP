{
  "nbformat": 4,
  "nbformat_minor": 0,
  "metadata": {
    "colab": {
      "name": "Vocabulary_Matching.ipynb",
      "provenance": [],
      "collapsed_sections": [],
      "authorship_tag": "ABX9TyPSaVEDg1gkmkXmh2RVaZ3+",
      "include_colab_link": true
    },
    "kernelspec": {
      "name": "python3",
      "display_name": "Python 3"
    }
  },
  "cells": [
    {
      "cell_type": "markdown",
      "metadata": {
        "id": "view-in-github",
        "colab_type": "text"
      },
      "source": [
        "<a href=\"https://colab.research.google.com/github/praveen310194/NLP/blob/main/Vocabulary_Matching.ipynb\" target=\"_parent\"><img src=\"https://colab.research.google.com/assets/colab-badge.svg\" alt=\"Open In Colab\"/></a>"
      ]
    },
    {
      "cell_type": "code",
      "metadata": {
        "id": "1lth_JwfkybM"
      },
      "source": [
        "import spacy\r\n",
        "nlp = spacy.load('en_core_web_sm')"
      ],
      "execution_count": null,
      "outputs": []
    },
    {
      "cell_type": "code",
      "metadata": {
        "id": "xEQ1z531qQyz"
      },
      "source": [
        "from spacy.matcher import Matcher\r\n",
        "matcher = Matcher(nlp.vocab)"
      ],
      "execution_count": null,
      "outputs": []
    },
    {
      "cell_type": "code",
      "metadata": {
        "id": "q47CWLXMqu8w"
      },
      "source": [
        "p1=[{'LOWER':'quickbrownfox'}]\r\n",
        "p2=[{'LOWER':'quick'},{'IS_PUNCT':True},{'LOWER':'brown'},{'IS_PUNCT':True},{'LOWER':'fox'}]\r\n",
        "p3=[{'LOWER':'quick'},{'LOWER':'brown'},{'LOWER':'fox'}]\r\n",
        "p4=[{'LOWER':'quick'},{'LOWER':'brownfox'}]"
      ],
      "execution_count": null,
      "outputs": []
    },
    {
      "cell_type": "code",
      "metadata": {
        "id": "LA018TFXv8qZ"
      },
      "source": [
        "matcher.add('qbf', None ,p1,p2,p3,p4)"
      ],
      "execution_count": null,
      "outputs": []
    },
    {
      "cell_type": "code",
      "metadata": {
        "colab": {
          "base_uri": "https://localhost:8080/"
        },
        "id": "4GoKmZNpwi2r",
        "outputId": "9a30665c-429b-4fc9-ce7f-9d09a7df48f0"
      },
      "source": [
        "doc=nlp('The quick-brown-fox jumps over the lazy dog. The quick brown fox eats well. the quickbrownfox is dead. The lazy dog missses the quick brownfox')\r\n",
        "doc"
      ],
      "execution_count": null,
      "outputs": [
        {
          "output_type": "execute_result",
          "data": {
            "text/plain": [
              "The quick-brown-fox jumps over the lazy dog. The quick brown fox eats well. the quickbrownfox is dead. The lazy dog missses the quick brownfox"
            ]
          },
          "metadata": {
            "tags": []
          },
          "execution_count": 14
        }
      ]
    },
    {
      "cell_type": "code",
      "metadata": {
        "colab": {
          "base_uri": "https://localhost:8080/"
        },
        "id": "9zFQzFLKx1wl",
        "outputId": "22ebb14f-10af-4e4e-ad12-d5564fa8609d"
      },
      "source": [
        "found_matches=matcher(doc)\r\n",
        "found_matches"
      ],
      "execution_count": null,
      "outputs": [
        {
          "output_type": "execute_result",
          "data": {
            "text/plain": [
              "[(9983213577854029698, 1, 6),\n",
              " (9983213577854029698, 13, 16),\n",
              " (9983213577854029698, 20, 21),\n",
              " (9983213577854029698, 29, 31)]"
            ]
          },
          "metadata": {
            "tags": []
          },
          "execution_count": 15
        }
      ]
    },
    {
      "cell_type": "code",
      "metadata": {
        "colab": {
          "base_uri": "https://localhost:8080/"
        },
        "id": "J1i8RZGryoJd",
        "outputId": "55ad1bbd-61b3-48b8-e7f7-a394a9654b54"
      },
      "source": [
        "for m_id,start,end in found_matches:\r\n",
        "  str_id=nlp.vocab.strings[m_id]\r\n",
        "  span=doc[start:end]  \r\n",
        "  print(m_id,'=',str_id,',',start,'-',end,'=',span)"
      ],
      "execution_count": null,
      "outputs": [
        {
          "output_type": "stream",
          "text": [
            "9983213577854029698 = qbf , 1 - 6 = quick-brown-fox\n",
            "9983213577854029698 = qbf , 13 - 16 = quick brown fox\n",
            "9983213577854029698 = qbf , 20 - 21 = quickbrownfox\n",
            "9983213577854029698 = qbf , 29 - 31 = quick brownfox\n"
          ],
          "name": "stdout"
        }
      ]
    },
    {
      "cell_type": "code",
      "metadata": {
        "id": "BuMYcQ1Ty6E6"
      },
      "source": [
        "matcher.remove('qbf')"
      ],
      "execution_count": null,
      "outputs": []
    },
    {
      "cell_type": "code",
      "metadata": {
        "id": "hmfidYeD09iP"
      },
      "source": [
        "p5=[{'LOWER':'quick'},{'IS_PUNCT':True,'op':'*'},{'LOWER':'brown'},{'IS_PUNCT':True,'op':'*'},{'LOWER':'fox'}]"
      ],
      "execution_count": null,
      "outputs": []
    },
    {
      "cell_type": "code",
      "metadata": {
        "id": "YGm7fR441IfJ"
      },
      "source": [
        "matcher.add('qbf1', None ,p5)"
      ],
      "execution_count": null,
      "outputs": []
    },
    {
      "cell_type": "code",
      "metadata": {
        "colab": {
          "base_uri": "https://localhost:8080/"
        },
        "id": "5s2gSA0N1RRx",
        "outputId": "df7d4f58-cf38-4847-e813-a1c8d65fd0e8"
      },
      "source": [
        "doc1=nlp('The quick-brown-fox jumps over the lazy dog. The quick brown fox eats well. the quickbrownfox is dead. The lazy dog missses the quick brownfox. hi quick---brown--fox quick brown--fox')\r\n",
        "doc1"
      ],
      "execution_count": null,
      "outputs": [
        {
          "output_type": "execute_result",
          "data": {
            "text/plain": [
              "The quick-brown-fox jumps over the lazy dog. The quick brown fox eats well. the quickbrownfox is dead. The lazy dog missses the quick brownfox. hi quick---brown--fox quick brown--fox"
            ]
          },
          "metadata": {
            "tags": []
          },
          "execution_count": 25
        }
      ]
    },
    {
      "cell_type": "code",
      "metadata": {
        "colab": {
          "base_uri": "https://localhost:8080/"
        },
        "id": "eCx8N6CI1waN",
        "outputId": "9ba87ea4-8252-43e9-88ce-d0e0e97d057f"
      },
      "source": [
        "found_matches1=matcher(doc1)\r\n",
        "found_matches1"
      ],
      "execution_count": null,
      "outputs": [
        {
          "output_type": "execute_result",
          "data": {
            "text/plain": [
              "[(16796528826024109649, 1, 6),\n",
              " (16796528826024109649, 13, 16),\n",
              " (16796528826024109649, 33, 38),\n",
              " (16796528826024109649, 38, 42)]"
            ]
          },
          "metadata": {
            "tags": []
          },
          "execution_count": 26
        }
      ]
    },
    {
      "cell_type": "code",
      "metadata": {
        "colab": {
          "base_uri": "https://localhost:8080/"
        },
        "id": "GCV6HCEx1sH3",
        "outputId": "e9118cde-a753-4ca8-fba9-4ad0404d3ed2"
      },
      "source": [
        "for m_id,start,end in found_matches1:\r\n",
        "  str_id=nlp.vocab.strings[m_id]\r\n",
        "  span=doc1[start:end]  \r\n",
        "  print(m_id,'=',str_id,',',start,'-',end,'=',span)"
      ],
      "execution_count": null,
      "outputs": [
        {
          "output_type": "stream",
          "text": [
            "16796528826024109649 = qbf1 , 1 - 6 = quick-brown-fox\n",
            "16796528826024109649 = qbf1 , 13 - 16 = quick brown fox\n",
            "16796528826024109649 = qbf1 , 33 - 38 = quick---brown--fox\n",
            "16796528826024109649 = qbf1 , 38 - 42 = quick brown--fox\n"
          ],
          "name": "stdout"
        }
      ]
    },
    {
      "cell_type": "code",
      "metadata": {
        "colab": {
          "base_uri": "https://localhost:8080/"
        },
        "id": "VGwO5oBA179X",
        "outputId": "878486f8-d3c2-419a-fb87-6b26cde6097c"
      },
      "source": [
        "found_matches2=matcher(doc1)\r\n",
        "found_matches2"
      ],
      "execution_count": null,
      "outputs": [
        {
          "output_type": "execute_result",
          "data": {
            "text/plain": [
              "[(16796528826024109649, 1, 6),\n",
              " (9983213577854029698, 1, 6),\n",
              " (16796528826024109649, 13, 16),\n",
              " (9983213577854029698, 13, 16),\n",
              " (9983213577854029698, 20, 21),\n",
              " (9983213577854029698, 29, 31),\n",
              " (16796528826024109649, 33, 38),\n",
              " (9983213577854029698, 33, 38),\n",
              " (16796528826024109649, 38, 42),\n",
              " (9983213577854029698, 38, 42)]"
            ]
          },
          "metadata": {
            "tags": []
          },
          "execution_count": 31
        }
      ]
    },
    {
      "cell_type": "code",
      "metadata": {
        "colab": {
          "base_uri": "https://localhost:8080/"
        },
        "id": "EwGsgmly2ZTS",
        "outputId": "14640a25-a058-4140-98e9-55033b7a5dd2"
      },
      "source": [
        "for m_id,start,end in found_matches2:\r\n",
        "  str_id=nlp.vocab.strings[m_id]\r\n",
        "  span=doc1[start:end]  \r\n",
        "  print(m_id,'=',str_id,',',start,'-',end,'=',span)"
      ],
      "execution_count": null,
      "outputs": [
        {
          "output_type": "stream",
          "text": [
            "16796528826024109649 = qbf1 , 1 - 6 = quick-brown-fox\n",
            "9983213577854029698 = qbf , 1 - 6 = quick-brown-fox\n",
            "16796528826024109649 = qbf1 , 13 - 16 = quick brown fox\n",
            "9983213577854029698 = qbf , 13 - 16 = quick brown fox\n",
            "9983213577854029698 = qbf , 20 - 21 = quickbrownfox\n",
            "9983213577854029698 = qbf , 29 - 31 = quick brownfox\n",
            "16796528826024109649 = qbf1 , 33 - 38 = quick---brown--fox\n",
            "9983213577854029698 = qbf , 33 - 38 = quick---brown--fox\n",
            "16796528826024109649 = qbf1 , 38 - 42 = quick brown--fox\n",
            "9983213577854029698 = qbf , 38 - 42 = quick brown--fox\n"
          ],
          "name": "stdout"
        }
      ]
    },
    {
      "cell_type": "code",
      "metadata": {
        "id": "5o3agPzY2c1U"
      },
      "source": [
        ""
      ],
      "execution_count": null,
      "outputs": []
    }
  ]
}