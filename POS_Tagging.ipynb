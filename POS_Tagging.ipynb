{
  "nbformat": 4,
  "nbformat_minor": 0,
  "metadata": {
    "colab": {
      "name": "POS_Tagging.ipynb",
      "provenance": [],
      "collapsed_sections": [],
      "authorship_tag": "ABX9TyMNNyahTnaFH3Yuh28TMENJ",
      "include_colab_link": true
    },
    "kernelspec": {
      "name": "python3",
      "display_name": "Python 3"
    }
  },
  "cells": [
    {
      "cell_type": "markdown",
      "metadata": {
        "id": "view-in-github",
        "colab_type": "text"
      },
      "source": [
        "<a href=\"https://colab.research.google.com/github/praveen310194/NLP/blob/main/POS_Tagging.ipynb\" target=\"_parent\"><img src=\"https://colab.research.google.com/assets/colab-badge.svg\" alt=\"Open In Colab\"/></a>"
      ]
    },
    {
      "cell_type": "code",
      "metadata": {
        "id": "N27e9BZMCowa"
      },
      "source": [
        "import spacy\r\n",
        "nlp=spacy.load('en_core_web_sm')"
      ],
      "execution_count": null,
      "outputs": []
    },
    {
      "cell_type": "code",
      "metadata": {
        "id": "hFVtik0NRvn3"
      },
      "source": [
        "doc=nlp('the quick brown fox jumped over lazy dog\\'s back')"
      ],
      "execution_count": null,
      "outputs": []
    },
    {
      "cell_type": "code",
      "metadata": {
        "colab": {
          "base_uri": "https://localhost:8080/"
        },
        "id": "siRMRws1SX55",
        "outputId": "c355ea56-fdff-4d83-cfcd-1148ab3831c6"
      },
      "source": [
        "for i in doc:\r\n",
        "  print(i.text,i.pos_,i.tag_,str(spacy.explain(i.tag_)))"
      ],
      "execution_count": null,
      "outputs": [
        {
          "output_type": "stream",
          "text": [
            "the DET DT determiner\n",
            "quick ADJ JJ adjective\n",
            "brown PROPN NNP noun, proper singular\n",
            "fox PROPN NNP noun, proper singular\n",
            "jumped VERB VBD verb, past tense\n",
            "over ADP IN conjunction, subordinating or preposition\n",
            "lazy ADJ JJ adjective\n",
            "dog NOUN NN noun, singular or mass\n",
            "'s PART POS possessive ending\n",
            "back NOUN NN noun, singular or mass\n"
          ],
          "name": "stdout"
        }
      ]
    },
    {
      "cell_type": "code",
      "metadata": {
        "colab": {
          "base_uri": "https://localhost:8080/"
        },
        "id": "8_5Nk1bOS2KD",
        "outputId": "ea2aaf5d-4669-460c-becf-9d949a3dffc1"
      },
      "source": [
        "for i in doc:\r\n",
        "  print(f'{i.text:{10}}{i.pos_:{8}}{i.tag_:{6}}{str(spacy.explain(i.tag_))}')"
      ],
      "execution_count": null,
      "outputs": [
        {
          "output_type": "stream",
          "text": [
            "the       DET     DT    determiner\n",
            "quick     ADJ     JJ    adjective\n",
            "brown     PROPN   NNP   noun, proper singular\n",
            "fox       PROPN   NNP   noun, proper singular\n",
            "jumped    VERB    VBD   verb, past tense\n",
            "over      ADP     IN    conjunction, subordinating or preposition\n",
            "lazy      ADJ     JJ    adjective\n",
            "dog       NOUN    NN    noun, singular or mass\n",
            "'s        PART    POS   possessive ending\n",
            "back      NOUN    NN    noun, singular or mass\n"
          ],
          "name": "stdout"
        }
      ]
    },
    {
      "cell_type": "code",
      "metadata": {
        "colab": {
          "base_uri": "https://localhost:8080/"
        },
        "id": "ic1gsXlmTbue",
        "outputId": "c0bc2c52-3616-4553-ab47-7caa6f672a4e"
      },
      "source": [
        "doc1=nlp('i read books on nlp')\r\n",
        "r=doc1[1]\r\n",
        "r"
      ],
      "execution_count": null,
      "outputs": [
        {
          "output_type": "execute_result",
          "data": {
            "text/plain": [
              "read"
            ]
          },
          "metadata": {
            "tags": []
          },
          "execution_count": 8
        }
      ]
    },
    {
      "cell_type": "code",
      "metadata": {
        "colab": {
          "base_uri": "https://localhost:8080/"
        },
        "id": "JMj5QSRwVfTV",
        "outputId": "557a1dce-32ad-4dc0-f684-c1df57eb8066"
      },
      "source": [
        "print(f'{r.text:{10}}{r.pos_:{8}}{r.tag_:{6}}{str(spacy.explain(r.tag_))}')"
      ],
      "execution_count": null,
      "outputs": [
        {
          "output_type": "stream",
          "text": [
            "read      VERB    VBD   verb, past tense\n"
          ],
          "name": "stdout"
        }
      ]
    },
    {
      "cell_type": "code",
      "metadata": {
        "colab": {
          "base_uri": "https://localhost:8080/"
        },
        "id": "sbvhCyxGVqTc",
        "outputId": "1191871f-d13b-4915-bbb2-80d9beadaf4a"
      },
      "source": [
        "doc2=nlp('i am reading a book on nlp')\r\n",
        "r=doc2[2]\r\n",
        "r"
      ],
      "execution_count": null,
      "outputs": [
        {
          "output_type": "execute_result",
          "data": {
            "text/plain": [
              "reading"
            ]
          },
          "metadata": {
            "tags": []
          },
          "execution_count": 13
        }
      ]
    },
    {
      "cell_type": "code",
      "metadata": {
        "colab": {
          "base_uri": "https://localhost:8080/"
        },
        "id": "6d5_IDNYVyl5",
        "outputId": "6cc6599c-1217-4a0f-98ed-61ff86fc71ae"
      },
      "source": [
        "print(f'{r.text:{10}}{r.pos_:{8}}{r.tag_:{6}}{str(spacy.explain(r.tag_))}')"
      ],
      "execution_count": null,
      "outputs": [
        {
          "output_type": "stream",
          "text": [
            "reading   VERB    VBG   verb, gerund or present participle\n"
          ],
          "name": "stdout"
        }
      ]
    },
    {
      "cell_type": "code",
      "metadata": {
        "id": "EBplZAR6V6kB"
      },
      "source": [
        "doc3=nlp('the quick brown fox jumped over the lazy dog\\'s back')"
      ],
      "execution_count": null,
      "outputs": []
    },
    {
      "cell_type": "code",
      "metadata": {
        "colab": {
          "base_uri": "https://localhost:8080/"
        },
        "id": "utBA2U33Wqhp",
        "outputId": "a037cb69-5fd0-4f97-9dce-612623d43277"
      },
      "source": [
        "pos_count=doc.count_by(spacy.attrs.POS)\r\n",
        "pos_count"
      ],
      "execution_count": null,
      "outputs": [
        {
          "output_type": "execute_result",
          "data": {
            "text/plain": [
              "{84: 2, 85: 1, 90: 1, 92: 2, 94: 1, 96: 2, 100: 1}"
            ]
          },
          "metadata": {
            "tags": []
          },
          "execution_count": 18
        }
      ]
    },
    {
      "cell_type": "code",
      "metadata": {
        "colab": {
          "base_uri": "https://localhost:8080/",
          "height": 35
        },
        "id": "YqKk-NiwW8vi",
        "outputId": "d87c6155-daa3-41e6-c544-8a8a2ec6c7b7"
      },
      "source": [
        "doc.vocab[84].text"
      ],
      "execution_count": null,
      "outputs": [
        {
          "output_type": "execute_result",
          "data": {
            "application/vnd.google.colaboratory.intrinsic+json": {
              "type": "string"
            },
            "text/plain": [
              "'ADJ'"
            ]
          },
          "metadata": {
            "tags": []
          },
          "execution_count": 19
        }
      ]
    },
    {
      "cell_type": "code",
      "metadata": {
        "colab": {
          "base_uri": "https://localhost:8080/"
        },
        "id": "NJJ0MG0rXq-3",
        "outputId": "af910795-7126-4dc9-e202-2fa138d20274"
      },
      "source": [
        "pos_count.items()"
      ],
      "execution_count": null,
      "outputs": [
        {
          "output_type": "execute_result",
          "data": {
            "text/plain": [
              "dict_items([(90, 1), (84, 2), (96, 2), (100, 1), (85, 1), (92, 2), (94, 1)])"
            ]
          },
          "metadata": {
            "tags": []
          },
          "execution_count": 20
        }
      ]
    },
    {
      "cell_type": "code",
      "metadata": {
        "colab": {
          "base_uri": "https://localhost:8080/"
        },
        "id": "mu9nfxXsXN2j",
        "outputId": "3dda02ef-8bf1-4400-8800-23d0f20db8d2"
      },
      "source": [
        "for k,v in sorted(pos_count.items()):\r\n",
        "  print(f'{k} {doc.vocab[84].text:{6}}-{v}')"
      ],
      "execution_count": null,
      "outputs": [
        {
          "output_type": "stream",
          "text": [
            "84 ADJ   -2\n",
            "85 ADJ   -1\n",
            "90 ADJ   -1\n",
            "92 ADJ   -2\n",
            "94 ADJ   -1\n",
            "96 ADJ   -2\n",
            "100 ADJ   -1\n"
          ],
          "name": "stdout"
        }
      ]
    },
    {
      "cell_type": "code",
      "metadata": {
        "colab": {
          "base_uri": "https://localhost:8080/"
        },
        "id": "7mJQWfllX-di",
        "outputId": "cbe0be45-f9e1-4e65-8df3-2eab56223f59"
      },
      "source": [
        "tag_count=doc.count_by(spacy.attrs.TAG)\r\n",
        "tag_count"
      ],
      "execution_count": null,
      "outputs": [
        {
          "output_type": "execute_result",
          "data": {
            "text/plain": [
              "{74: 1,\n",
              " 1292078113972184607: 1,\n",
              " 10554686591937588953: 2,\n",
              " 15267657372422890137: 1,\n",
              " 15308085513773655218: 2,\n",
              " 15794550382381185553: 2,\n",
              " 17109001835818727656: 1}"
            ]
          },
          "metadata": {
            "tags": []
          },
          "execution_count": 27
        }
      ]
    },
    {
      "cell_type": "code",
      "metadata": {
        "colab": {
          "base_uri": "https://localhost:8080/"
        },
        "id": "SfaN4I23Y4te",
        "outputId": "c1cf09b5-e8b5-4171-f8c3-0caf841393a8"
      },
      "source": [
        "for k,v in sorted(tag_count.items()):\r\n",
        "  print(f'{k} {doc.vocab[84].text:{6}}-{v}')"
      ],
      "execution_count": null,
      "outputs": [
        {
          "output_type": "stream",
          "text": [
            "74 ADJ   -1\n",
            "1292078113972184607 ADJ   -1\n",
            "10554686591937588953 ADJ   -2\n",
            "15267657372422890137 ADJ   -1\n",
            "15308085513773655218 ADJ   -2\n",
            "15794550382381185553 ADJ   -2\n",
            "17109001835818727656 ADJ   -1\n"
          ],
          "name": "stdout"
        }
      ]
    },
    {
      "cell_type": "code",
      "metadata": {
        "id": "dtDuz1osZCVK"
      },
      "source": [
        ""
      ],
      "execution_count": null,
      "outputs": []
    }
  ]
}