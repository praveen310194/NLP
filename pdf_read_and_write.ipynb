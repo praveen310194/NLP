{
  "nbformat": 4,
  "nbformat_minor": 0,
  "metadata": {
    "colab": {
      "name": "pdf_read_and_write.ipynb",
      "provenance": [],
      "collapsed_sections": [],
      "authorship_tag": "ABX9TyNyaqTOsaLJipRlM73IEd/m",
      "include_colab_link": true
    },
    "kernelspec": {
      "name": "python3",
      "display_name": "Python 3"
    }
  },
  "cells": [
    {
      "cell_type": "markdown",
      "metadata": {
        "id": "view-in-github",
        "colab_type": "text"
      },
      "source": [
        "<a href=\"https://colab.research.google.com/github/praveen310194/NLP/blob/main/pdf_read_and_write.ipynb\" target=\"_parent\"><img src=\"https://colab.research.google.com/assets/colab-badge.svg\" alt=\"Open In Colab\"/></a>"
      ]
    },
    {
      "cell_type": "code",
      "metadata": {
        "colab": {
          "base_uri": "https://localhost:8080/"
        },
        "id": "GXfeJONkNF_Z",
        "outputId": "3f0d7a85-4262-4636-8949-94bdaa77acc3"
      },
      "source": [
        "pip install PyPDF2"
      ],
      "execution_count": 1,
      "outputs": [
        {
          "output_type": "stream",
          "text": [
            "Collecting PyPDF2\n",
            "\u001b[?25l  Downloading https://files.pythonhosted.org/packages/b4/01/68fcc0d43daf4c6bdbc6b33cc3f77bda531c86b174cac56ef0ffdb96faab/PyPDF2-1.26.0.tar.gz (77kB)\n",
            "\r\u001b[K     |████▎                           | 10kB 15.6MB/s eta 0:00:01\r\u001b[K     |████████▌                       | 20kB 10.6MB/s eta 0:00:01\r\u001b[K     |████████████▊                   | 30kB 8.6MB/s eta 0:00:01\r\u001b[K     |█████████████████               | 40kB 7.3MB/s eta 0:00:01\r\u001b[K     |█████████████████████▏          | 51kB 4.2MB/s eta 0:00:01\r\u001b[K     |█████████████████████████▍      | 61kB 4.9MB/s eta 0:00:01\r\u001b[K     |█████████████████████████████▋  | 71kB 5.0MB/s eta 0:00:01\r\u001b[K     |████████████████████████████████| 81kB 3.4MB/s \n",
            "\u001b[?25hBuilding wheels for collected packages: PyPDF2\n",
            "  Building wheel for PyPDF2 (setup.py) ... \u001b[?25l\u001b[?25hdone\n",
            "  Created wheel for PyPDF2: filename=PyPDF2-1.26.0-cp36-none-any.whl size=61087 sha256=c590ac5eca46e6e9e641a626bf620ed1ff068bf878c2897d7df8d7f793df6d9c\n",
            "  Stored in directory: /root/.cache/pip/wheels/53/84/19/35bc977c8bf5f0c23a8a011aa958acd4da4bbd7a229315c1b7\n",
            "Successfully built PyPDF2\n",
            "Installing collected packages: PyPDF2\n",
            "Successfully installed PyPDF2-1.26.0\n"
          ],
          "name": "stdout"
        }
      ]
    },
    {
      "cell_type": "code",
      "metadata": {
        "id": "zziGJPUsNk1H"
      },
      "source": [
        "file=open('sample_data/bs.pdf','rb')"
      ],
      "execution_count": 13,
      "outputs": []
    },
    {
      "cell_type": "code",
      "metadata": {
        "id": "K2RGZGgXQW3f"
      },
      "source": [
        "import PyPDF2 as pp"
      ],
      "execution_count": 4,
      "outputs": []
    },
    {
      "cell_type": "code",
      "metadata": {
        "colab": {
          "base_uri": "https://localhost:8080/"
        },
        "id": "wKNFOptQQqox",
        "outputId": "b47e221e-ff08-4dc6-c707-f8d04487b0a6"
      },
      "source": [
        "pf=pp.PdfFileReader(file)"
      ],
      "execution_count": 14,
      "outputs": [
        {
          "output_type": "stream",
          "text": [
            "PdfReadWarning: Xref table not zero-indexed. ID numbers for objects will be corrected. [pdf.py:1736]\n"
          ],
          "name": "stderr"
        }
      ]
    },
    {
      "cell_type": "code",
      "metadata": {
        "colab": {
          "base_uri": "https://localhost:8080/"
        },
        "id": "sZ_5IeoYRZBu",
        "outputId": "895eae36-f856-4f9e-d879-f76bdc6ad18a"
      },
      "source": [
        "pf.numPages"
      ],
      "execution_count": 15,
      "outputs": [
        {
          "output_type": "execute_result",
          "data": {
            "text/plain": [
              "10"
            ]
          },
          "metadata": {
            "tags": []
          },
          "execution_count": 15
        }
      ]
    },
    {
      "cell_type": "code",
      "metadata": {
        "id": "iRJIBu5URp4_"
      },
      "source": [
        "page1=pf.getPage(0)"
      ],
      "execution_count": 20,
      "outputs": []
    },
    {
      "cell_type": "code",
      "metadata": {
        "id": "8-zQKz2FSrIh"
      },
      "source": [
        "page_txt=page1.extractText()"
      ],
      "execution_count": 21,
      "outputs": []
    },
    {
      "cell_type": "code",
      "metadata": {
        "colab": {
          "base_uri": "https://localhost:8080/",
          "height": 137
        },
        "id": "8CzkK4GMTD7K",
        "outputId": "7dca7cc1-7d06-4a3c-ef9f-f3e996f81c6e"
      },
      "source": [
        "page_txt"
      ],
      "execution_count": 22,
      "outputs": [
        {
          "output_type": "execute_result",
          "data": {
            "application/vnd.google.colaboratory.intrinsic+json": {
              "type": "string"
            },
            "text/plain": [
              "'Bhagat Singh’s Jail NotebookChaman LalBhagat Singh dead, will be more dangerous to the British enslaversthan Bhagat Singh alive. After I am hanged, the fragrance of myrevolutionary ideas will permeate the atmosphere of this beautiful\\nland of ours. It will intoxicate the youth and make him mad forfreedom and revolution, and that, will bring the doom of the Britishimperialists nearer. This is my firm conviction.\\nBhagat Singh, quoted by Shiv Verma\\nIntroduction to The Selected Writings of Bhagat SinghThe threat of imperialism, led by the United States in the company of theUnited Kingdom and Israel, looms large over the entire world. In Afghanistan,Iraq and Lebanon, this threat has taken a direct military form over the past\\nfew years. Countries like Iran and North Korea are being bullied daily, while\\nothers like Cuba and Venezuela have faced conspiracies of various kinds over\\nthe last several years. Several other nations, India included, face pressure to\\nframe domestic and international policies in line with what the imperialistmaster dictates. In these difficult and challenging times, one’s thoughts turn to\\nBhagat Singh and Che Guevara, who both fought against colonialism and\\nimperialism uncompromisingly. Both were fearless and unflinching in their\\ndedication to the cause of the oppressed. Separated by nearly half a centuryand several thousand miles, the two are yet united in their heroic martyrdom,\\nwhich continues to inspire millions worldwide. While Che is deservedly aglobal icon for revolutionaries and other progressive forces, for various reasonsBhagat Singh remains relatively obscure outside India. His struggle against\\nBritish colonialism, his life and his thoughts deserve to be better known, forthey hold out lessons to the oppressed all over the planet.On April 8, 1929, Bhagat Singh and Batu Keshwar Dutta threw harmlessbombs in what is today the Parliament of India, then the Central Assembly.\\n\\nThe slogans they shouted, ‘Inqilab Zindabad’ (‘Long Live Revolution’) and‘Down with Imperialism’, caught the imagination of the Indian people. The\\nslogans themselves arose out of a qualitative change in the nature of the anti-colonial movement, with the entry, on a mass scale, of the working people\\nand the poor. The new slogans replaced ‘Bande Mataram’ (‘Mother, I Bow to\\n'"
            ]
          },
          "metadata": {
            "tags": []
          },
          "execution_count": 22
        }
      ]
    },
    {
      "cell_type": "markdown",
      "metadata": {
        "id": "0CceBD9nWNuT"
      },
      "source": [
        "# Create PDF"
      ]
    },
    {
      "cell_type": "code",
      "metadata": {
        "id": "-GvZk9DATT1P"
      },
      "source": [
        "pdf_write=pp.PdfFileWriter()"
      ],
      "execution_count": 28,
      "outputs": []
    },
    {
      "cell_type": "code",
      "metadata": {
        "id": "UmqCCNmEWVfi"
      },
      "source": [
        "pdf_write.addPage(page1)"
      ],
      "execution_count": 29,
      "outputs": []
    },
    {
      "cell_type": "code",
      "metadata": {
        "id": "QMoBCftoWYKh"
      },
      "source": [
        "pdf_op=open('sample_data/demo1.pdf','wb')"
      ],
      "execution_count": 34,
      "outputs": []
    },
    {
      "cell_type": "code",
      "metadata": {
        "id": "JRM5wCCsYqN-"
      },
      "source": [
        "pdf_write.write(pdf_op)"
      ],
      "execution_count": 35,
      "outputs": []
    },
    {
      "cell_type": "code",
      "metadata": {
        "id": "YXgotNfCYzi5"
      },
      "source": [
        ""
      ],
      "execution_count": null,
      "outputs": []
    }
  ]
}