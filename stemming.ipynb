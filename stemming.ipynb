{
  "nbformat": 4,
  "nbformat_minor": 0,
  "metadata": {
    "colab": {
      "name": "stemming.ipynb",
      "provenance": [],
      "collapsed_sections": [],
      "authorship_tag": "ABX9TyPjBol1gy0dQ2RH6ATE/1qU",
      "include_colab_link": true
    },
    "kernelspec": {
      "name": "python3",
      "display_name": "Python 3"
    }
  },
  "cells": [
    {
      "cell_type": "markdown",
      "metadata": {
        "id": "view-in-github",
        "colab_type": "text"
      },
      "source": [
        "<a href=\"https://colab.research.google.com/github/praveen310194/NLP/blob/main/stemming.ipynb\" target=\"_parent\"><img src=\"https://colab.research.google.com/assets/colab-badge.svg\" alt=\"Open In Colab\"/></a>"
      ]
    },
    {
      "cell_type": "code",
      "metadata": {
        "id": "BvhFfMyyaVTx"
      },
      "source": [
        "import nltk"
      ],
      "execution_count": null,
      "outputs": []
    },
    {
      "cell_type": "code",
      "metadata": {
        "id": "iju5YXbVagXn"
      },
      "source": [
        "from nltk.stem.porter import PorterStemmer"
      ],
      "execution_count": null,
      "outputs": []
    },
    {
      "cell_type": "code",
      "metadata": {
        "id": "eCnyNLvZaxEb"
      },
      "source": [
        "psm = PorterStemmer()"
      ],
      "execution_count": null,
      "outputs": []
    },
    {
      "cell_type": "code",
      "metadata": {
        "id": "PTTXQxP9a2ka"
      },
      "source": [
        "words=['runner','ran','running','history','historical','easily','fairly']"
      ],
      "execution_count": null,
      "outputs": []
    },
    {
      "cell_type": "code",
      "metadata": {
        "colab": {
          "base_uri": "https://localhost:8080/"
        },
        "id": "TvOB3Jg-bhq8",
        "outputId": "1eaafae9-1493-4616-c60d-073e888a89e8"
      },
      "source": [
        "for i in words:\r\n",
        "  print(i,'-',psm.stem(i))"
      ],
      "execution_count": null,
      "outputs": [
        {
          "output_type": "stream",
          "text": [
            "runner - runner\n",
            "ran - ran\n",
            "running - run\n",
            "history - histori\n",
            "historical - histor\n",
            "easily - easili\n",
            "fairly - fairli\n"
          ],
          "name": "stdout"
        }
      ]
    },
    {
      "cell_type": "markdown",
      "metadata": {
        "id": "6uvO-yWdcZ8l"
      },
      "source": [
        "**snowball stemmer**"
      ]
    },
    {
      "cell_type": "code",
      "metadata": {
        "id": "AAWTuJw9cecx"
      },
      "source": [
        "from nltk.stem.snowball import SnowballStemmer"
      ],
      "execution_count": null,
      "outputs": []
    },
    {
      "cell_type": "code",
      "metadata": {
        "id": "qXPRRq7QcosW"
      },
      "source": [
        "ssm = SnowballStemmer(language='english')"
      ],
      "execution_count": null,
      "outputs": []
    },
    {
      "cell_type": "code",
      "metadata": {
        "colab": {
          "base_uri": "https://localhost:8080/"
        },
        "id": "E5ANCZwbcvJ-",
        "outputId": "95da78d8-91d8-4353-d3b7-787c14595dd6"
      },
      "source": [
        "for i in words:\r\n",
        "  print(i,'-',ssm.stem(i))"
      ],
      "execution_count": null,
      "outputs": [
        {
          "output_type": "stream",
          "text": [
            "runner - runner\n",
            "ran - ran\n",
            "running - run\n",
            "history - histori\n",
            "historical - histor\n",
            "easily - easili\n",
            "fairly - fair\n"
          ],
          "name": "stdout"
        }
      ]
    },
    {
      "cell_type": "code",
      "metadata": {
        "id": "oKzUeuDoc1qZ"
      },
      "source": [
        ""
      ],
      "execution_count": null,
      "outputs": []
    },
    {
      "cell_type": "markdown",
      "metadata": {
        "id": "JrbVvXmwdQ48"
      },
      "source": [
        "**lemmatization**"
      ]
    },
    {
      "cell_type": "code",
      "metadata": {
        "id": "B6xnqO5jdZm-"
      },
      "source": [
        "import spacy\r\n",
        "nlp=spacy.load('en_core_web_sm')"
      ],
      "execution_count": null,
      "outputs": []
    },
    {
      "cell_type": "code",
      "metadata": {
        "id": "HcB3Z7i6dant"
      },
      "source": [
        "doc=nlp('runner ran running history historical easily fairly')"
      ],
      "execution_count": null,
      "outputs": []
    },
    {
      "cell_type": "code",
      "metadata": {
        "colab": {
          "base_uri": "https://localhost:8080/"
        },
        "id": "SvOzoJApdhJh",
        "outputId": "71091393-9c83-4af8-fcda-6259b65b9e43"
      },
      "source": [
        "for i in doc:\r\n",
        "  print(i.text,'-',i.lemma_)"
      ],
      "execution_count": null,
      "outputs": [
        {
          "output_type": "stream",
          "text": [
            "runner - runner\n",
            "ran - run\n",
            "running - run\n",
            "history - history\n",
            "historical - historical\n",
            "easily - easily\n",
            "fairly - fairly\n"
          ],
          "name": "stdout"
        }
      ]
    },
    {
      "cell_type": "code",
      "metadata": {
        "id": "n5_wOvBNd5MF"
      },
      "source": [
        ""
      ],
      "execution_count": null,
      "outputs": []
    }
  ]
}