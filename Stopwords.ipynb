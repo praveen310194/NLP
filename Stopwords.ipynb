{
  "nbformat": 4,
  "nbformat_minor": 0,
  "metadata": {
    "colab": {
      "name": "Stopwords.ipynb",
      "provenance": [],
      "collapsed_sections": [],
      "authorship_tag": "ABX9TyO3pQOieTWIxzq8krWOpzsf",
      "include_colab_link": true
    },
    "kernelspec": {
      "name": "python3",
      "display_name": "Python 3"
    }
  },
  "cells": [
    {
      "cell_type": "markdown",
      "metadata": {
        "id": "view-in-github",
        "colab_type": "text"
      },
      "source": [
        "<a href=\"https://colab.research.google.com/github/praveen310194/NLP/blob/main/Stopwords.ipynb\" target=\"_parent\"><img src=\"https://colab.research.google.com/assets/colab-badge.svg\" alt=\"Open In Colab\"/></a>"
      ]
    },
    {
      "cell_type": "code",
      "metadata": {
        "id": "b7pQztgcJg0c"
      },
      "source": [
        "import spacy"
      ],
      "execution_count": null,
      "outputs": []
    },
    {
      "cell_type": "code",
      "metadata": {
        "id": "NckKZcjyKKR5"
      },
      "source": [
        "nlp=spacy.load('en_core_web_sm')"
      ],
      "execution_count": null,
      "outputs": []
    },
    {
      "cell_type": "code",
      "metadata": {
        "colab": {
          "base_uri": "https://localhost:8080/"
        },
        "id": "Cf3ALbL8KZ60",
        "outputId": "39e86ec3-293a-4f9d-f48c-355500977966"
      },
      "source": [
        " print(nlp.Defaults.stop_words)"
      ],
      "execution_count": null,
      "outputs": [
        {
          "output_type": "stream",
          "text": [
            "{'beyond', 'ca', 'latter', 'various', 'say', 'can', 'this', \"'ll\", 'fifty', 'least', 'full', 'six', 'you', 'every', 'the', 'whole', 'already', 'others', 'two', 'our', 'else', 'eight', 'i', 'neither', 'becoming', 'during', 'see', 'thereby', 'n‘t', '‘re', 'due', 'hundred', 'no', 'until', 'behind', 'anyhow', 'noone', 'on', 'yourselves', 'five', 'ourselves', \"'d\", 'so', 'above', 'whose', 'mostly', 'somehow', '‘m', 'sometime', '‘d', '’m', 'almost', 'be', 'thru', 'very', 'any', 'should', 'such', 'sometimes', 'thereupon', 'itself', 'same', 'bottom', 'besides', 'name', 'something', '’ll', 'both', 'next', 'were', \"'s\", 'them', 'does', 'make', 'towards', 'seemed', 'by', 'nor', 'three', 'less', 'afterwards', 'just', 'us', 'n’t', '‘s', 'many', 'his', 'upon', 'please', '’ve', 'hers', '‘ve', 'has', 'using', 'mine', 'keep', 'indeed', 'whereafter', 'wherein', 'while', 'even', 'part', '’d', 'nothing', 'unless', '‘ll', 'at', 'between', 'third', 'always', 'last', 'really', 'sixty', 'hereby', 'top', 'whereas', 'amount', 'everyone', 'used', 'most', 'those', 'whenever', 'everywhere', 'her', 'could', 'my', 'yourself', 'became', 'twenty', 'doing', 'which', 'become', \"'re\", 'wherever', 'herein', 'becomes', 'being', 'own', 'enough', 'anywhere', 'among', 'am', 'since', 'eleven', 'nobody', 'well', 'themselves', 'it', 'alone', 'somewhere', 'because', 'serious', 'their', 'me', 'now', 'cannot', 'and', 'are', 'may', 'across', 'will', 'been', 'before', 'still', 'anyway', 'via', 'thereafter', 'whither', 'beside', 'out', 'few', 'latterly', 'everything', 'per', 'onto', 'ten', 'is', 'together', 'we', 'show', 'a', 'then', 'also', 'anyone', 'call', 'several', 'thus', 'do', 'he', 'once', 'did', 'than', 'thence', 'again', 'done', 'give', 'your', 'might', 'over', 'have', 'as', 'around', 'front', 'therefore', 'these', 'back', 'hence', 'go', 'side', 'seem', 'other', 'was', 'whereupon', 'along', 'except', \"n't\", 'former', 'him', 'amongst', 'perhaps', 'formerly', 'why', 'four', 'only', 're', 'himself', 'never', 'without', 'from', 'that', 'whereby', 'meanwhile', 'moreover', 'off', 'ours', 'quite', \"'m\", 'hereupon', 'forty', 'what', '’s', 'often', 'beforehand', 'against', 'empty', 'whom', 'would', 'whether', 'here', 'however', 'nine', 'one', 'down', 'otherwise', 'though', 'herself', 'toward', 'within', 'yet', 'with', 'below', 'another', 'if', 'nowhere', 'throughout', \"'ve\", 'up', 'more', 'fifteen', 'an', 'nevertheless', 'put', 'get', 'therein', 'for', 'in', 'there', 'twelve', 'but', 'myself', 'take', 'elsewhere', 'when', 'move', 'seems', 'under', 'namely', 'first', 'seeming', 'much', 'none', 'how', 'she', 'too', 'some', 'rather', 'through', 'whoever', 'either', '’re', 'into', 'whence', 'anything', 'where', 'of', 'regarding', 'to', 'its', 'not', 'they', 'although', 'yours', 'all', 'must', 'hereafter', 'had', 'made', 'after', 'further', 'ever', 'or', 'someone', 'whatever', 'who', 'each', 'about'}\n"
          ],
          "name": "stdout"
        }
      ]
    },
    {
      "cell_type": "code",
      "metadata": {
        "colab": {
          "base_uri": "https://localhost:8080/"
        },
        "id": "SGXIEUmQL6ns",
        "outputId": "1301b219-917e-4138-d094-ffbf49ab5ac3"
      },
      "source": [
        " len(nlp.Defaults.stop_words)"
      ],
      "execution_count": null,
      "outputs": [
        {
          "output_type": "execute_result",
          "data": {
            "text/plain": [
              "326"
            ]
          },
          "metadata": {
            "tags": []
          },
          "execution_count": 5
        }
      ]
    },
    {
      "cell_type": "code",
      "metadata": {
        "colab": {
          "base_uri": "https://localhost:8080/"
        },
        "id": "k9TTBC-hML3F",
        "outputId": "40d8dca8-596a-44d1-d147-0204cff01683"
      },
      "source": [
        "nlp.vocab['hi'].is_stop"
      ],
      "execution_count": null,
      "outputs": [
        {
          "output_type": "execute_result",
          "data": {
            "text/plain": [
              "False"
            ]
          },
          "metadata": {
            "tags": []
          },
          "execution_count": 6
        }
      ]
    },
    {
      "cell_type": "code",
      "metadata": {
        "colab": {
          "base_uri": "https://localhost:8080/"
        },
        "id": "RKzVATlnMbtM",
        "outputId": "ffca0d87-e536-4cdb-a12d-e37e0ffc5a91"
      },
      "source": [
        "nlp.vocab['and'].is_stop"
      ],
      "execution_count": null,
      "outputs": [
        {
          "output_type": "execute_result",
          "data": {
            "text/plain": [
              "True"
            ]
          },
          "metadata": {
            "tags": []
          },
          "execution_count": 7
        }
      ]
    },
    {
      "cell_type": "markdown",
      "metadata": {
        "id": "GB1SDFf8Mnvn"
      },
      "source": [
        "Add and Remove stop word to vocab"
      ]
    },
    {
      "cell_type": "code",
      "metadata": {
        "id": "TALeIHSsMwxU"
      },
      "source": [
        "nlp.Defaults.stop_words.add('hi')\r\n",
        "nlp.vocab['hi'].is_stop = True"
      ],
      "execution_count": null,
      "outputs": []
    },
    {
      "cell_type": "code",
      "metadata": {
        "colab": {
          "base_uri": "https://localhost:8080/"
        },
        "id": "eC4Np-zvM4D2",
        "outputId": "79c56e49-5c22-449a-a3c9-e1262577fed8"
      },
      "source": [
        "nlp.vocab['hi'].is_stop"
      ],
      "execution_count": null,
      "outputs": [
        {
          "output_type": "execute_result",
          "data": {
            "text/plain": [
              "True"
            ]
          },
          "metadata": {
            "tags": []
          },
          "execution_count": 13
        }
      ]
    },
    {
      "cell_type": "code",
      "metadata": {
        "colab": {
          "base_uri": "https://localhost:8080/"
        },
        "id": "jYVI3lj0M7sU",
        "outputId": "09a29242-35b0-4eb2-c04b-ea15d937c435"
      },
      "source": [
        " len(nlp.Defaults.stop_words)"
      ],
      "execution_count": null,
      "outputs": [
        {
          "output_type": "execute_result",
          "data": {
            "text/plain": [
              "327"
            ]
          },
          "metadata": {
            "tags": []
          },
          "execution_count": 14
        }
      ]
    },
    {
      "cell_type": "code",
      "metadata": {
        "id": "RHRjwbl4NYqU"
      },
      "source": [
        "nlp.Defaults.stop_words.remove('hi')\r\n",
        "nlp.vocab['hi'].is_stop = False"
      ],
      "execution_count": null,
      "outputs": []
    },
    {
      "cell_type": "code",
      "metadata": {
        "colab": {
          "base_uri": "https://localhost:8080/"
        },
        "id": "fpnQji95Njzt",
        "outputId": "ddd0238b-2e26-4aae-87da-d3969167d025"
      },
      "source": [
        "nlp.vocab['hi'].is_stop"
      ],
      "execution_count": null,
      "outputs": [
        {
          "output_type": "execute_result",
          "data": {
            "text/plain": [
              "False"
            ]
          },
          "metadata": {
            "tags": []
          },
          "execution_count": 16
        }
      ]
    },
    {
      "cell_type": "code",
      "metadata": {
        "colab": {
          "base_uri": "https://localhost:8080/"
        },
        "id": "m7x0-2kZNlaZ",
        "outputId": "778b4cac-2c10-4caa-fe64-99db9e08ee42"
      },
      "source": [
        " len(nlp.Defaults.stop_words)"
      ],
      "execution_count": null,
      "outputs": [
        {
          "output_type": "execute_result",
          "data": {
            "text/plain": [
              "326"
            ]
          },
          "metadata": {
            "tags": []
          },
          "execution_count": 17
        }
      ]
    },
    {
      "cell_type": "code",
      "metadata": {
        "id": "Y47WPcUxObOW"
      },
      "source": [
        "sw=sorted(list(nlp.Defaults.stop_words))"
      ],
      "execution_count": null,
      "outputs": []
    },
    {
      "cell_type": "code",
      "metadata": {
        "colab": {
          "base_uri": "https://localhost:8080/"
        },
        "id": "88E7cxX7Obfx",
        "outputId": "977681ad-e03e-4448-b85a-2dc73dff51c6"
      },
      "source": [
        "print(sw)"
      ],
      "execution_count": null,
      "outputs": [
        {
          "output_type": "stream",
          "text": [
            "[\"'d\", \"'ll\", \"'m\", \"'re\", \"'s\", \"'ve\", 'a', 'about', 'above', 'across', 'after', 'afterwards', 'again', 'against', 'all', 'almost', 'alone', 'along', 'already', 'also', 'although', 'always', 'am', 'among', 'amongst', 'amount', 'an', 'and', 'another', 'any', 'anyhow', 'anyone', 'anything', 'anyway', 'anywhere', 'are', 'around', 'as', 'at', 'back', 'be', 'became', 'because', 'become', 'becomes', 'becoming', 'been', 'before', 'beforehand', 'behind', 'being', 'below', 'beside', 'besides', 'between', 'beyond', 'both', 'bottom', 'but', 'by', 'ca', 'call', 'can', 'cannot', 'could', 'did', 'do', 'does', 'doing', 'done', 'down', 'due', 'during', 'each', 'eight', 'either', 'eleven', 'else', 'elsewhere', 'empty', 'enough', 'even', 'ever', 'every', 'everyone', 'everything', 'everywhere', 'except', 'few', 'fifteen', 'fifty', 'first', 'five', 'for', 'former', 'formerly', 'forty', 'four', 'from', 'front', 'full', 'further', 'get', 'give', 'go', 'had', 'has', 'have', 'he', 'hence', 'her', 'here', 'hereafter', 'hereby', 'herein', 'hereupon', 'hers', 'herself', 'him', 'himself', 'his', 'how', 'however', 'hundred', 'i', 'if', 'in', 'indeed', 'into', 'is', 'it', 'its', 'itself', 'just', 'keep', 'last', 'latter', 'latterly', 'least', 'less', 'made', 'make', 'many', 'may', 'me', 'meanwhile', 'might', 'mine', 'more', 'moreover', 'most', 'mostly', 'move', 'much', 'must', 'my', 'myself', \"n't\", 'name', 'namely', 'neither', 'never', 'nevertheless', 'next', 'nine', 'no', 'nobody', 'none', 'noone', 'nor', 'not', 'nothing', 'now', 'nowhere', 'n‘t', 'n’t', 'of', 'off', 'often', 'on', 'once', 'one', 'only', 'onto', 'or', 'other', 'others', 'otherwise', 'our', 'ours', 'ourselves', 'out', 'over', 'own', 'part', 'per', 'perhaps', 'please', 'put', 'quite', 'rather', 're', 'really', 'regarding', 'same', 'say', 'see', 'seem', 'seemed', 'seeming', 'seems', 'serious', 'several', 'she', 'should', 'show', 'side', 'since', 'six', 'sixty', 'so', 'some', 'somehow', 'someone', 'something', 'sometime', 'sometimes', 'somewhere', 'still', 'such', 'take', 'ten', 'than', 'that', 'the', 'their', 'them', 'themselves', 'then', 'thence', 'there', 'thereafter', 'thereby', 'therefore', 'therein', 'thereupon', 'these', 'they', 'third', 'this', 'those', 'though', 'three', 'through', 'throughout', 'thru', 'thus', 'to', 'together', 'too', 'top', 'toward', 'towards', 'twelve', 'twenty', 'two', 'under', 'unless', 'until', 'up', 'upon', 'us', 'used', 'using', 'various', 'very', 'via', 'was', 'we', 'well', 'were', 'what', 'whatever', 'when', 'whence', 'whenever', 'where', 'whereafter', 'whereas', 'whereby', 'wherein', 'whereupon', 'wherever', 'whether', 'which', 'while', 'whither', 'who', 'whoever', 'whole', 'whom', 'whose', 'why', 'will', 'with', 'within', 'without', 'would', 'yet', 'you', 'your', 'yours', 'yourself', 'yourselves', '‘d', '‘ll', '‘m', '‘re', '‘s', '‘ve', '’d', '’ll', '’m', '’re', '’s', '’ve']\n"
          ],
          "name": "stdout"
        }
      ]
    },
    {
      "cell_type": "code",
      "metadata": {
        "colab": {
          "base_uri": "https://localhost:8080/"
        },
        "id": "iumrR39LOjds",
        "outputId": "d48588ab-b7bd-4823-9830-79967a554c28"
      },
      "source": [
        "sw.count(\"'d\")"
      ],
      "execution_count": null,
      "outputs": [
        {
          "output_type": "execute_result",
          "data": {
            "text/plain": [
              "1"
            ]
          },
          "metadata": {
            "tags": []
          },
          "execution_count": 26
        }
      ]
    },
    {
      "cell_type": "code",
      "metadata": {
        "id": "6xmeujDfPC8p"
      },
      "source": [
        "def sw_fn(w,m):\r\n",
        "  sww=sorted(list(nlp.Defaults.stop_words))\r\n",
        "  if m =='check':\r\n",
        "    count = sww.count(w)\r\n",
        "    if count==1:\r\n",
        "      return True\r\n",
        "    else:\r\n",
        "      return False\r\n",
        "  elif m == 'add':\r\n",
        "    nlp.Defaults.stop_words.add(w)\r\n",
        "    nlp.vocab[w].is_stop = True\r\n",
        "    return 'Added'\r\n",
        "  elif m == 'remove':\r\n",
        "    nlp.Defaults.stop_words.remove(w)\r\n",
        "    nlp.vocab[w].is_stop = False\r\n",
        "    return 'Removed'\r\n",
        "  else:\r\n",
        "    return sww\r\n"
      ],
      "execution_count": null,
      "outputs": []
    },
    {
      "cell_type": "code",
      "metadata": {
        "colab": {
          "base_uri": "https://localhost:8080/"
        },
        "id": "Lk58mhe-PzYC",
        "outputId": "978c06ea-f32d-4311-d824-bc289bdc0c1a"
      },
      "source": [
        "print(sw_fn('hi','add'))"
      ],
      "execution_count": null,
      "outputs": [
        {
          "output_type": "stream",
          "text": [
            "Added\n"
          ],
          "name": "stdout"
        }
      ]
    },
    {
      "cell_type": "code",
      "metadata": {
        "colab": {
          "base_uri": "https://localhost:8080/"
        },
        "id": "qGC63raKP3jH",
        "outputId": "dac047c1-b4d5-40c1-b70a-b6420376ce0b"
      },
      "source": [
        "print(sw_fn('hi','check'))"
      ],
      "execution_count": null,
      "outputs": [
        {
          "output_type": "stream",
          "text": [
            "True\n"
          ],
          "name": "stdout"
        }
      ]
    },
    {
      "cell_type": "code",
      "metadata": {
        "id": "sHb_4W3RSRZQ"
      },
      "source": [
        ""
      ],
      "execution_count": null,
      "outputs": []
    }
  ]
}