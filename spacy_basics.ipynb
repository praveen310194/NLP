{
  "nbformat": 4,
  "nbformat_minor": 0,
  "metadata": {
    "colab": {
      "name": "spacy_basics.ipynb",
      "provenance": [],
      "collapsed_sections": [],
      "authorship_tag": "ABX9TyMHQNeCmrH2V7VEOyjQwCxz",
      "include_colab_link": true
    },
    "kernelspec": {
      "name": "python3",
      "display_name": "Python 3"
    }
  },
  "cells": [
    {
      "cell_type": "markdown",
      "metadata": {
        "id": "view-in-github",
        "colab_type": "text"
      },
      "source": [
        "<a href=\"https://colab.research.google.com/github/praveen310194/NLP/blob/main/spacy_basics.ipynb\" target=\"_parent\"><img src=\"https://colab.research.google.com/assets/colab-badge.svg\" alt=\"Open In Colab\"/></a>"
      ]
    },
    {
      "cell_type": "code",
      "metadata": {
        "id": "R-pYsegsg7kr",
        "colab": {
          "base_uri": "https://localhost:8080/"
        },
        "outputId": "57bc1c79-16ff-4ef3-e5a3-2f77fe11cc12"
      },
      "source": [
        "import spacy.cli\r\n",
        "spacy.cli.download('en_core_web_sm')"
      ],
      "execution_count": 1,
      "outputs": [
        {
          "output_type": "stream",
          "text": [
            "\u001b[38;5;2m✔ Download and installation successful\u001b[0m\n",
            "You can now load the model via spacy.load('en_core_web_sm')\n"
          ],
          "name": "stdout"
        }
      ]
    },
    {
      "cell_type": "code",
      "metadata": {
        "id": "9cRWnQWWNPen"
      },
      "source": [
        "import spacy as sp\r\n",
        "nlp=sp.load('en_core_web_sm')"
      ],
      "execution_count": 2,
      "outputs": []
    },
    {
      "cell_type": "code",
      "metadata": {
        "colab": {
          "base_uri": "https://localhost:8080/"
        },
        "id": "rn-fv60hNjAM",
        "outputId": "4501606f-3385-41c2-ae10-0d65546e2a1d"
      },
      "source": [
        "type(nlp)"
      ],
      "execution_count": 3,
      "outputs": [
        {
          "output_type": "execute_result",
          "data": {
            "text/plain": [
              "spacy.lang.en.English"
            ]
          },
          "metadata": {
            "tags": []
          },
          "execution_count": 3
        }
      ]
    },
    {
      "cell_type": "code",
      "metadata": {
        "colab": {
          "base_uri": "https://localhost:8080/"
        },
        "id": "Tvy00a9cNold",
        "outputId": "4d55837e-6b26-45f9-a111-9712eb974545"
      },
      "source": [
        "nlp.pipeline"
      ],
      "execution_count": 4,
      "outputs": [
        {
          "output_type": "execute_result",
          "data": {
            "text/plain": [
              "[('tagger', <spacy.pipeline.pipes.Tagger at 0x7efe62ab4438>),\n",
              " ('parser', <spacy.pipeline.pipes.DependencyParser at 0x7efe629b9ac8>),\n",
              " ('ner', <spacy.pipeline.pipes.EntityRecognizer at 0x7efe629b9b28>)]"
            ]
          },
          "metadata": {
            "tags": []
          },
          "execution_count": 4
        }
      ]
    },
    {
      "cell_type": "code",
      "metadata": {
        "colab": {
          "base_uri": "https://localhost:8080/"
        },
        "id": "u77QKpGUORAO",
        "outputId": "9e283a3f-7a08-4df8-a4ba-3a5c38720e02"
      },
      "source": [
        "doc=nlp('Apple is looking at buying U.K. startup for $6 millions')\r\n",
        "doc"
      ],
      "execution_count": 5,
      "outputs": [
        {
          "output_type": "execute_result",
          "data": {
            "text/plain": [
              "Apple is looking at buying U.K. startup for $6 millions"
            ]
          },
          "metadata": {
            "tags": []
          },
          "execution_count": 5
        }
      ]
    },
    {
      "cell_type": "code",
      "metadata": {
        "colab": {
          "base_uri": "https://localhost:8080/"
        },
        "id": "VItMh2YFbsKx",
        "outputId": "4c08827d-0099-408f-c62a-feb18a74b87e"
      },
      "source": [
        "doc[0].text,doc[0].pos_,doc[0].dep_"
      ],
      "execution_count": 6,
      "outputs": [
        {
          "output_type": "execute_result",
          "data": {
            "text/plain": [
              "('Apple', 'PROPN', 'nsubj')"
            ]
          },
          "metadata": {
            "tags": []
          },
          "execution_count": 6
        }
      ]
    },
    {
      "cell_type": "code",
      "metadata": {
        "colab": {
          "base_uri": "https://localhost:8080/"
        },
        "id": "Jypzr1gsdLsF",
        "outputId": "b1377e0f-a9c6-4090-863f-fb79babafadd"
      },
      "source": [
        "spacy.explain('PROPN'),spacy.explain('nsubj')"
      ],
      "execution_count": 7,
      "outputs": [
        {
          "output_type": "execute_result",
          "data": {
            "text/plain": [
              "('proper noun', 'nominal subject')"
            ]
          },
          "metadata": {
            "tags": []
          },
          "execution_count": 7
        }
      ]
    },
    {
      "cell_type": "code",
      "metadata": {
        "colab": {
          "base_uri": "https://localhost:8080/"
        },
        "id": "RfRlyjpJb9sp",
        "outputId": "49e27cfb-06fe-412d-a41d-02920b89ddea"
      },
      "source": [
        "for i in doc:\r\n",
        "  print(i.text,'-',i.pos_,'(',spacy.explain(i.pos_),')','-',i.dep_,'(',spacy.explain(i.dep_),')')"
      ],
      "execution_count": 8,
      "outputs": [
        {
          "output_type": "stream",
          "text": [
            "Apple - PROPN ( proper noun ) - nsubj ( nominal subject )\n",
            "is - AUX ( auxiliary ) - aux ( auxiliary )\n",
            "looking - VERB ( verb ) - ROOT ( None )\n",
            "at - ADP ( adposition ) - prep ( prepositional modifier )\n",
            "buying - VERB ( verb ) - pcomp ( complement of preposition )\n",
            "U.K. - PROPN ( proper noun ) - compound ( compound )\n",
            "startup - NOUN ( noun ) - dobj ( direct object )\n",
            "for - ADP ( adposition ) - prep ( prepositional modifier )\n",
            "$ - SYM ( symbol ) - quantmod ( modifier of quantifier )\n",
            "6 - NUM ( numeral ) - nummod ( numeric modifier )\n",
            "millions - NOUN ( noun ) - pobj ( object of preposition )\n"
          ],
          "name": "stdout"
        }
      ]
    },
    {
      "cell_type": "code",
      "metadata": {
        "id": "EATn1MiYcc8i",
        "colab": {
          "base_uri": "https://localhost:8080/",
          "height": 35
        },
        "outputId": "1b16c252-503c-4e25-e536-420eade25a59"
      },
      "source": [
        "doc[2].lemma_"
      ],
      "execution_count": 11,
      "outputs": [
        {
          "output_type": "execute_result",
          "data": {
            "application/vnd.google.colaboratory.intrinsic+json": {
              "type": "string"
            },
            "text/plain": [
              "'look'"
            ]
          },
          "metadata": {
            "tags": []
          },
          "execution_count": 11
        }
      ]
    },
    {
      "cell_type": "code",
      "metadata": {
        "id": "li8tahE_qMS2"
      },
      "source": [
        "a=nlp('took taken seen moved liked went gone go see')"
      ],
      "execution_count": 33,
      "outputs": []
    },
    {
      "cell_type": "code",
      "metadata": {
        "colab": {
          "base_uri": "https://localhost:8080/"
        },
        "id": "9vBbAGUPtNuh",
        "outputId": "1c0ea428-c002-45e5-9ed4-756887ce6920"
      },
      "source": [
        "a"
      ],
      "execution_count": 34,
      "outputs": [
        {
          "output_type": "execute_result",
          "data": {
            "text/plain": [
              "took taken seen moved liked went gone go see"
            ]
          },
          "metadata": {
            "tags": []
          },
          "execution_count": 34
        }
      ]
    },
    {
      "cell_type": "code",
      "metadata": {
        "colab": {
          "base_uri": "https://localhost:8080/",
          "height": 35
        },
        "id": "Okp5CI9lqY1k",
        "outputId": "fe561534-3e0f-4a3b-d4c9-c66f824d3f86"
      },
      "source": [
        "a[-2].lemma_"
      ],
      "execution_count": 35,
      "outputs": [
        {
          "output_type": "execute_result",
          "data": {
            "application/vnd.google.colaboratory.intrinsic+json": {
              "type": "string"
            },
            "text/plain": [
              "'go'"
            ]
          },
          "metadata": {
            "tags": []
          },
          "execution_count": 35
        }
      ]
    },
    {
      "cell_type": "code",
      "metadata": {
        "colab": {
          "base_uri": "https://localhost:8080/"
        },
        "id": "cr_Bpw7VtqDB",
        "outputId": "121dae65-5a73-4645-f3bb-3c1a5bdc9695"
      },
      "source": [
        "#lemma_ corvert to past and feature to present tense\r\n",
        "for i in a:\r\n",
        "  print(i,'-',i.lemma_)"
      ],
      "execution_count": 36,
      "outputs": [
        {
          "output_type": "stream",
          "text": [
            "took - take\n",
            "taken - take\n",
            "seen - see\n",
            "moved - move\n",
            "liked - like\n",
            "went - go\n",
            "gone - go\n",
            "go - go\n",
            "see - see\n"
          ],
          "name": "stdout"
        }
      ]
    },
    {
      "cell_type": "code",
      "metadata": {
        "colab": {
          "base_uri": "https://localhost:8080/"
        },
        "id": "xd5-hLXwuDuq",
        "outputId": "b10ead74-6c26-4d0b-f875-f71cccaafe07"
      },
      "source": [
        "b=nlp('srinu is 2 feet taller than sai and 1 feet shorter than praveen.sai thinking about her height')\r\n",
        "b"
      ],
      "execution_count": 37,
      "outputs": [
        {
          "output_type": "execute_result",
          "data": {
            "text/plain": [
              "srinu is 2 feet taller than sai and 1 feet shorter than praveen.sai thinking about her height"
            ]
          },
          "metadata": {
            "tags": []
          },
          "execution_count": 37
        }
      ]
    },
    {
      "cell_type": "code",
      "metadata": {
        "colab": {
          "base_uri": "https://localhost:8080/"
        },
        "id": "V9f_hEFCvG-J",
        "outputId": "199da380-9318-4df1-a9f9-0f0306d8b8ee"
      },
      "source": [
        "#is_alpha gives if alphabet is 'True' else 'false'\r\n",
        "for i in b:\r\n",
        "  print(i,'-',i.is_alpha)"
      ],
      "execution_count": 38,
      "outputs": [
        {
          "output_type": "stream",
          "text": [
            "srinu - True\n",
            "is - True\n",
            "2 - False\n",
            "feet - True\n",
            "taller - True\n",
            "than - True\n",
            "sai - True\n",
            "and - True\n",
            "1 - False\n",
            "feet - True\n",
            "shorter - True\n",
            "than - True\n",
            "praveen.sai - False\n",
            "thinking - True\n",
            "about - True\n",
            "her - True\n",
            "height - True\n"
          ],
          "name": "stdout"
        }
      ]
    },
    {
      "cell_type": "code",
      "metadata": {
        "colab": {
          "base_uri": "https://localhost:8080/"
        },
        "id": "dLh8UH2TvT5K",
        "outputId": "2df1451d-f518-4524-a17e-c485697e7e56"
      },
      "source": [
        "#is_stop give if stop words(ex:is,and,than,etc..,) is 'True' else 'false'\r\n",
        "for i in b:\r\n",
        "  print(i,'-',i.is_stop)"
      ],
      "execution_count": 32,
      "outputs": [
        {
          "output_type": "stream",
          "text": [
            "srinu - False\n",
            "is - True\n",
            "2 - False\n",
            "feet - False\n",
            "taller - False\n",
            "than - True\n",
            "sai - False\n",
            "and - True\n",
            "1 - False\n",
            "feet - False\n",
            "shorter - False\n",
            "than - True\n",
            "praveen.sai - False\n",
            "thinking - False\n",
            "about - True\n",
            "her - True\n",
            "height - False\n"
          ],
          "name": "stdout"
        }
      ]
    },
    {
      "cell_type": "code",
      "metadata": {
        "id": "PGXtaI2pvbIZ"
      },
      "source": [
        ""
      ],
      "execution_count": null,
      "outputs": []
    }
  ]
}